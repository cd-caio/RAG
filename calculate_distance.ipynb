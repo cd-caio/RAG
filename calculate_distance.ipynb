{
 "cells": [
  {
   "cell_type": "code",
   "execution_count": 14,
   "id": "b5780e71-2dd3-4c70-933e-4bd1d9c98dcc",
   "metadata": {},
   "outputs": [],
   "source": [
    "import numpy as np\n",
    "import json\n",
    "from llm import OpenAILLM\n",
    "from sklearn.metrics.pairwise import cosine_similarity\n",
    "from scipy import spatial"
   ]
  },
  {
   "cell_type": "code",
   "execution_count": 15,
   "id": "2d6a872b-24ce-4aa0-b981-93e35d6d66d4",
   "metadata": {},
   "outputs": [],
   "source": [
    "with open(\"embeddings.json\", \"r\") as file:\n",
    "    embeddings = json.loads(file.read())"
   ]
  },
  {
   "cell_type": "code",
   "execution_count": 25,
   "id": "a885f829-fbf4-40da-8cca-8f939adca4bc",
   "metadata": {},
   "outputs": [],
   "source": [
    "text = \"The best party of chess\""
   ]
  },
  {
   "cell_type": "code",
   "execution_count": 26,
   "id": "ec48320c-8676-4fde-8e46-cccc49a08a19",
   "metadata": {},
   "outputs": [],
   "source": [
    "llm = OpenAILLM()\n",
    "text_embedding = llm.get_embedding(text)"
   ]
  },
  {
   "cell_type": "code",
   "execution_count": 27,
   "id": "51417749-79bb-4c2f-aa4a-9b7a2424a9eb",
   "metadata": {},
   "outputs": [],
   "source": [
    "book_embedding = np.array(embeddings[0][\"embedding\"])\n",
    "text_embedding = np.array(text_embedding)\n",
    "\n",
    "data = np.array([text_embedding, book_embedding])"
   ]
  },
  {
   "cell_type": "code",
   "execution_count": 28,
   "id": "d4bc8f94-65f0-4851-a1b9-e22bb0ba9650",
   "metadata": {},
   "outputs": [],
   "source": [
    "cosine_dist_easy = spatial.distance.cosine(book_embedding, text_embedding)"
   ]
  },
  {
   "cell_type": "code",
   "execution_count": 29,
   "id": "ab3fd993-d363-4d7b-9e4a-60def5856b38",
   "metadata": {},
   "outputs": [
    {
     "data": {
      "text/plain": [
       "0.30639149314167147"
      ]
     },
     "execution_count": 29,
     "metadata": {},
     "output_type": "execute_result"
    }
   ],
   "source": [
    "cosine_dist_easy"
   ]
  },
  {
   "cell_type": "code",
   "execution_count": 30,
   "id": "45e6b684-41bb-4d36-81e9-8925bbd70b66",
   "metadata": {},
   "outputs": [],
   "source": [
    "for i in range(len(embeddings)):\n",
    "    embeddings[i][\"distance\"] = spatial.distance.cosine(text_embedding, embeddings[i][\"embedding\"])"
   ]
  },
  {
   "cell_type": "code",
   "execution_count": 31,
   "id": "34dc39d3-adf2-4aba-95cf-294f6a4a25c5",
   "metadata": {},
   "outputs": [],
   "source": [
    "top_3_distances = [(0,0,\"\"),(0,0,\"\"),(0,0,\"\")]\n",
    "for i in range(len(embeddings)):\n",
    "    if embeddings[i][\"distance\"] > top_3_distances[0][1]:\n",
    "        top_3_distances[2] = top_3_distances[1]\n",
    "        top_3_distances[1] = top_3_distances[0]\n",
    "        top_3_distances[0] = (embeddings[i][\"id\"],embeddings[i][\"distance\"],embeddings[i][\"content\"])\n",
    "    elif embeddings[i][\"distance\"] > top_3_distances[1][1]:\n",
    "        top_3_distances[2] = top_3_distances[1]\n",
    "        top_3_distances[1] = (embeddings[i][\"id\"],embeddings[i][\"distance\"],embeddings[i][\"content\"])\n",
    "    elif embeddings[i][\"distance\"] > top_3_distances[2][1]:\n",
    "        top_3_distances[2] = (embeddings[i][\"id\"],embeddings[i][\"distance\"],embeddings[i][\"content\"])"
   ]
  },
  {
   "cell_type": "code",
   "execution_count": 32,
   "id": "778ceb28-b6e6-45d6-8a4e-e6be446a39ba",
   "metadata": {},
   "outputs": [
    {
     "data": {
      "text/plain": [
       "[(16,\n",
       "  0.3303257320018421,\n",
       "  ' he had gotten up tofind his hair exactly as it had been before Aunt Petunia had sheared it off He hadbeen given a week in his cupboard for this, even though he had tried to explainthat he couldn’t explain how it had grown back so quickly. Another time, Aunt Petunia had been trying to force him into a revoltingold sweater of Dudley’s (brown with orange puff balls). The harder she tried topull it over his head, the smaller it seemed to become, until finally it might havefitted a hand puppet, but certainly wouldn’t fit Harry. Aunt Petunia had decidedit must have shrunk in the wash and, to his great relief, Harry wasn’t punished. On the other hand, he’d gotten into terrible trouble for being found on theroof of the school kitchens. Dudley’s gang had been chasing him as usual when,as much to Harry’s surprise as anyone else’s, there he was sitting on thechimney. The Dursleys had received a very angry letter from Harry’sheadmistress telling them Harry had been climbing school buildings. But all he’dtried to do (as he shouted at Uncle Vernon through the locked door of hiscupboard) was jump behind the big trash cans outside the kitchen doors. Harrysupposed that the wind must have caught him in mid-jump. But today, nothing was going to go wrong. It was even worth being withDudley and Piers to be spending the day somewhere that wasn’t school, hiscupboard, or Mrs. Figg’s cabbage-smelling living room. While he drove, Uncle Vernon complained to Aunt Petunia. He liked tocomplain about things: people at work, Harry, the council, Harry, the bank, andHarry were just a few of his favorite subjects. This morning, it was motorcycles. “…roaring along like maniacs, the young hoodlums,” he said, as amotorcycle overtook them. “I had a dream about a motorcycle,” said Harry, remembering suddenly.“It was flying.” Uncle Vernon nearly crashed into the car in front. He turned right aroundin his seat and yelled at Harry, his face like a gigantic beet with a mustache:“MOTORCYCLES DON’T FLY!” Dudley and Piers sniggered. “I know they don’t,” said Harry. “It was only a dream.” But he wished he hadn’t said anything. If there was one thing theDursleys hated even more than his asking questions, it was his talking aboutanything acting in a way it shouldn’t, no matter if it was in a dream or even acartoon — they seemed to think he m'),\n",
       " (2,\n",
       "  0.31999944124568847,\n",
       "  ' — a cat reading a map. For a second, Mr. Dursley didn’trealize what he had seen — then he jerked his head around to look again. Therewas a tabby cat standing on the corner of Privet Drive, but there wasn’t a map insight. What could he have been thinking of? It must have been a trick of thelight. Mr. Dursley blinked and stared at the cat. It stared back. As Mr. Dursleydrove around the corner and up the road, he watched the cat in his mirror. It wasnow reading the sign that said Privet Drive — no, looking at the sign; catscouldn’t read maps or signs. Mr. Dursley gave himself a little shake and put thecat out of his mind. As he drove toward town he thought of nothing except alarge order of drills he was hoping to get that day. But on the edge of town, drills were driven out of his mind by somethingelse. As he sat in the usual morning traffic jam, he couldn’t help noticing thatthere seemed to be a lot of strangely dressed people about. People in cloaks. Mr.Dursley couldn’t bear people who dressed in funny clothes — the getups yousaw on young people! He supposed this was some stupid new fashion. Hedrummed his fingers on the steering wheel and his eyes fell on a huddle of theseweirdos standing quite close by. They were whispering excitedly together. Mr.Dursley was enraged to see that a couple of them weren’t young at all; why, thatman had to be older than he was, and wearing an emerald-green cloak! Thenerve of him! But then it struck Mr. Dursley that this was probably some sillystunt —these people were obviously collecting for something…yes, that wouldbe it. The traffic moved on and a few minutes later, Mr. Dursley arrived in theGrunnings parking lot, his mind back on drills. Mr. Dursley always sat with his back to the window in his office on theninth floor. If he hadn’t, he might have found it harder to concentrate on drillsthat morning. He didn’t see the owls swooping past in broad daylight, thoughpeople down in the street did; they pointed and gazed open-mouthed as owl afterowl sped overhead. Most of them had never seen an owl even at nighttime. Mr.Dursley, however, had a perfectly normal, owl-free morning. He yelled at fivedifferent people. He made several important telephone calls and shouted a bitmore. He was in a very good mood until lunchtime, when he thought he’d stretchhis legs and walk a'),\n",
       " (153,\n",
       "  0.3164373464063973,\n",
       "  'in’ odd inhere lately? There’s a unicorn bin injured — would yeh know anythin’ about it?” Bane walked over to stand next to Ronan. He looked skyward. “Mars isbright tonight,” he said simply. “We’ve heard,” said Hagrid grumpily. “Well, if either of you do seeanythin’, let me know, won’t yeh? We’ll be off, then.” Harry and Hermione followed him out of the clearing, staring over theirshoulders at Ronan and Bane until the trees blocked their view. “Never,” said Hagrid irritably, “try an’ get a straight answer out of acentaur. Ruddy stargazers. Not interested in anythin’ closer’n the moon.” “Are there many of them in here?” asked Hermione. “Oh, a fair few….Keep themselves to themselves mostly, but they’regood enough about turnin’ up if ever I want a word. They’re deep, mind,centaurs…they know things…jus’ don’ let on much.” “D’you think that was a centaur we heard earlier?” said Harry. “Did that sound like hooves to you? Nah, if yeh ask me, that was what’sbin killin’ the unicorns – never heard anythin’ like it before.” They walked on through the dense, dark trees. Harry kept lookingnervously over his shoulder. He had the nasty feeling they were being watched.He was very glad they had Hagrid and his crossbow with them. They had justpassed a bend in the path when Hermione grabbed Hagrid’s arm. “Hagrid! Look! Red sparks, the others are in trouble!” “You two wait here!” Hagrid shouted. “Stay on the path, I’ll come backfor yeh!” They heard him crashing away through the undergrowth and stoodlooking at each other, very scared, until they couldn’t hear anything but therustling of leaves around them. “You don’t think they’ve been hurt, do you?” whispered Hermione. “I don’t care if Malfoy has, but if something’s got Neville…it’s our faulthe’s here in the first place.” The minutes dragged by. Their ears seemed sharper than usual. Harry’sseemed to be picking up every sigh of the wind, every cracking twig. What wasgoing on? Where were the others? At last, a great crunching noise announced Hagrid’s return. Malfoy,Neville, and Fang were with him. Hagrid was fuming. Malfoy, it seemed, hadsneaked up behind Neville and grabbed him as a joke. Neville had panicked andsent up the sparks. “We’ll be lucky ter catch anythin’ now, with the racket you two weremakin’. Right, we’re changin’ groups — Neville, you stay with me a')]"
      ]
     },
     "execution_count": 32,
     "metadata": {},
     "output_type": "execute_result"
    }
   ],
   "source": [
    "top_3_distances"
   ]
  },
  {
   "cell_type": "code",
   "execution_count": null,
   "id": "09ca266a-9d83-4354-a837-7b88f89d05b0",
   "metadata": {},
   "outputs": [],
   "source": []
  }
 ],
 "metadata": {
  "kernelspec": {
   "display_name": "Python 3 (ipykernel)",
   "language": "python",
   "name": "python3"
  },
  "language_info": {
   "codemirror_mode": {
    "name": "ipython",
    "version": 3
   },
   "file_extension": ".py",
   "mimetype": "text/x-python",
   "name": "python",
   "nbconvert_exporter": "python",
   "pygments_lexer": "ipython3",
   "version": "3.11.3"
  }
 },
 "nbformat": 4,
 "nbformat_minor": 5
}
