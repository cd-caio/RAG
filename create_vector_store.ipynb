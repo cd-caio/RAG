{
 "cells": [
  {
   "cell_type": "code",
   "execution_count": 1,
   "id": "b16da76a-aa8a-4563-af0c-edb81b0bee16",
   "metadata": {},
   "outputs": [
    {
     "ename": "ModuleNotFoundError",
     "evalue": "No module named 'llm'",
     "output_type": "error",
     "traceback": [
      "\u001b[1;31m---------------------------------------------------------------------------\u001b[0m",
      "\u001b[1;31mModuleNotFoundError\u001b[0m                       Traceback (most recent call last)",
      "Cell \u001b[1;32mIn[1], line 4\u001b[0m\n\u001b[0;32m      1\u001b[0m \u001b[38;5;28;01mimport\u001b[39;00m \u001b[38;5;21;01mjson\u001b[39;00m\n\u001b[0;32m      3\u001b[0m \u001b[38;5;66;03m# Agora você pode importar módulos ou scripts da pasta A\u001b[39;00m\n\u001b[1;32m----> 4\u001b[0m \u001b[38;5;28;01mfrom\u001b[39;00m \u001b[38;5;21;01mllm\u001b[39;00m\u001b[38;5;21;01m.\u001b[39;00m\u001b[38;5;21;01mopenai_client\u001b[39;00m \u001b[38;5;28;01mimport\u001b[39;00m OpenAILLM\n",
      "\u001b[1;31mModuleNotFoundError\u001b[0m: No module named 'llm'"
     ]
    }
   ],
   "source": [
    "import json\n",
    "\n",
    "# Agora você pode importar módulos ou scripts da pasta A\n",
    "from llm.openai_client import OpenAILLM"
   ]
  },
  {
   "cell_type": "code",
   "execution_count": null,
   "id": "a9c952c4-abd0-4f7f-88fb-1c635078ad8b",
   "metadata": {},
   "outputs": [],
   "source": []
  }
 ],
 "metadata": {
  "kernelspec": {
   "display_name": "Python 3 (ipykernel)",
   "language": "python",
   "name": "python3"
  },
  "language_info": {
   "codemirror_mode": {
    "name": "ipython",
    "version": 3
   },
   "file_extension": ".py",
   "mimetype": "text/x-python",
   "name": "python",
   "nbconvert_exporter": "python",
   "pygments_lexer": "ipython3",
   "version": "3.11.2"
  }
 },
 "nbformat": 4,
 "nbformat_minor": 5
}
