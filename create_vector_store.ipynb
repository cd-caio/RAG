{
 "cells": [
  {
   "cell_type": "code",
   "execution_count": 1,
   "id": "b16da76a-aa8a-4563-af0c-edb81b0bee16",
   "metadata": {},
   "outputs": [],
   "source": [
    "import json\n",
    "\n",
    "# Agora você pode importar módulos ou scripts da pasta A\n",
    "from llm import OpenAILLM\n",
    "from tqdm import tqdm"
   ]
  },
  {
   "cell_type": "code",
   "execution_count": 2,
   "id": "8d069408-a030-4819-8ff3-c926b7b9bf24",
   "metadata": {},
   "outputs": [],
   "source": [
    "with open(\"./document/Harry-Potter-Book-1-The-Sorcerers-Stone.txt\", encoding=\"utf8\") as file:\n",
    "    book = file.read()"
   ]
  },
  {
   "cell_type": "code",
   "execution_count": 3,
   "id": "60c8536b-ef54-4a8a-8f50-f2831a416c9a",
   "metadata": {},
   "outputs": [],
   "source": [
    "book_without_n = ''.join(linha for linha in book.splitlines())"
   ]
  },
  {
   "cell_type": "code",
   "execution_count": 4,
   "id": "4e94c0fd-fcf8-4e63-9e96-59b6377306aa",
   "metadata": {},
   "outputs": [],
   "source": [
    "book_without_spaces = ' '.join(book_without_n.split())"
   ]
  },
  {
   "cell_type": "code",
   "execution_count": 5,
   "id": "e4b1b1ba-5e0d-4f3d-9342-7c0081c15924",
   "metadata": {},
   "outputs": [],
   "source": [
    "# book_splited = [\"CHAPTER\" + chapter for chapter in book_withot_spaces.split(\"CHAPTER\")[1:]] # Não usei por gerar embedding com muitos tokens"
   ]
  },
  {
   "cell_type": "code",
   "execution_count": 6,
   "id": "4f6a6e62-3eba-4633-9a22-d138d7aada96",
   "metadata": {},
   "outputs": [
    {
     "data": {
      "text/plain": [
       "185.53"
      ]
     },
     "execution_count": 6,
     "metadata": {},
     "output_type": "execute_result"
    }
   ],
   "source": [
    "len(book_without_spaces.split()) / 400"
   ]
  },
  {
   "cell_type": "code",
   "execution_count": 7,
   "id": "f41a38f6-77ff-4e1d-9e06-34dde5b078e5",
   "metadata": {},
   "outputs": [],
   "source": [
    "def dividir_string(string, partes):\n",
    "    tam_parte = len(string) // partes\n",
    "    partes_da_string = [string[i:i+tam_parte] for i in range(0, len(string), tam_parte)]\n",
    "    if len(partes_da_string[-1].strip()) < 200:\n",
    "        partes_da_string[-2] += partes_da_string[-1]\n",
    "        partes_da_string.pop()\n",
    "    return partes_da_string"
   ]
  },
  {
   "cell_type": "code",
   "execution_count": 8,
   "id": "da079b42-2fbb-4359-9c56-bab683a9e1ae",
   "metadata": {
    "scrolled": true
   },
   "outputs": [],
   "source": [
    "book_list_format: list = dividir_string(book_without_spaces, 185)"
   ]
  },
  {
   "cell_type": "code",
   "execution_count": 9,
   "id": "1a0e5e4b-87be-4cbb-8129-58a62b646516",
   "metadata": {},
   "outputs": [],
   "source": [
    "book_list_embedding: list = []"
   ]
  },
  {
   "cell_type": "code",
   "execution_count": 10,
   "id": "a9c952c4-abd0-4f7f-88fb-1c635078ad8b",
   "metadata": {
    "scrolled": true
   },
   "outputs": [
    {
     "name": "stdout",
     "output_type": "stream",
     "text": [
      "0\n",
      "1\n",
      "2\n",
      "3\n",
      "4\n",
      "5\n",
      "6\n",
      "7\n",
      "8\n",
      "9\n",
      "10\n",
      "11\n",
      "12\n",
      "13\n",
      "14\n",
      "15\n",
      "16\n",
      "17\n",
      "18\n",
      "19\n",
      "20\n",
      "21\n",
      "22\n",
      "23\n",
      "24\n",
      "25\n",
      "26\n",
      "27\n",
      "28\n",
      "29\n",
      "30\n",
      "31\n",
      "32\n",
      "33\n",
      "34\n",
      "35\n",
      "36\n",
      "37\n",
      "38\n",
      "39\n",
      "40\n",
      "41\n",
      "42\n",
      "43\n",
      "44\n",
      "45\n",
      "46\n",
      "47\n",
      "48\n",
      "49\n",
      "50\n",
      "51\n",
      "52\n",
      "53\n",
      "54\n",
      "55\n",
      "56\n",
      "57\n",
      "58\n",
      "59\n",
      "60\n",
      "61\n",
      "62\n",
      "63\n",
      "64\n",
      "65\n",
      "66\n",
      "67\n",
      "68\n",
      "69\n",
      "70\n",
      "71\n",
      "72\n",
      "73\n",
      "74\n",
      "75\n",
      "76\n",
      "77\n",
      "78\n",
      "79\n",
      "80\n",
      "81\n",
      "82\n",
      "83\n",
      "84\n",
      "85\n",
      "86\n",
      "87\n",
      "88\n",
      "89\n",
      "90\n",
      "91\n",
      "92\n",
      "93\n",
      "94\n",
      "95\n",
      "96\n",
      "97\n",
      "98\n",
      "99\n",
      "100\n",
      "101\n",
      "102\n",
      "103\n",
      "104\n",
      "105\n",
      "106\n",
      "107\n",
      "108\n",
      "109\n",
      "110\n",
      "111\n",
      "112\n",
      "113\n",
      "114\n",
      "115\n",
      "116\n",
      "117\n",
      "118\n",
      "119\n",
      "120\n",
      "121\n",
      "122\n",
      "123\n",
      "124\n",
      "125\n",
      "126\n",
      "127\n",
      "128\n",
      "129\n",
      "130\n",
      "131\n",
      "132\n",
      "133\n",
      "134\n",
      "135\n",
      "136\n",
      "137\n",
      "138\n",
      "139\n",
      "140\n",
      "141\n",
      "142\n",
      "143\n",
      "144\n",
      "145\n",
      "146\n",
      "147\n",
      "148\n",
      "149\n",
      "150\n",
      "151\n",
      "152\n",
      "153\n",
      "154\n",
      "155\n",
      "156\n",
      "157\n",
      "158\n",
      "159\n",
      "160\n",
      "161\n",
      "162\n",
      "163\n",
      "164\n",
      "165\n",
      "166\n",
      "167\n",
      "168\n",
      "169\n",
      "170\n",
      "171\n",
      "172\n",
      "173\n",
      "174\n",
      "175\n",
      "176\n",
      "177\n",
      "178\n",
      "179\n",
      "180\n",
      "181\n",
      "182\n",
      "183\n",
      "184\n"
     ]
    }
   ],
   "source": [
    "for i in range(len(book_list_format)):\n",
    "    print(i)\n",
    "    book_part = book_list_format[i]\n",
    "    llm = OpenAILLM()\n",
    "    embedding = llm.get_embedding(book_part)\n",
    "    book_list_embedding.append(\n",
    "        {\n",
    "            \"id\": i+1,\n",
    "            \"content\": book_part,\n",
    "            \"embedding\": embedding\n",
    "        }\n",
    "    )"
   ]
  },
  {
   "cell_type": "code",
   "execution_count": 11,
   "id": "ea2b8705-7619-4ae6-b3e3-4c17ffdc715c",
   "metadata": {},
   "outputs": [],
   "source": [
    "with open(\"./embeddings.json\", \"w\") as file:\n",
    "        json.dump(book_list_embedding, file, indent=4)"
   ]
  }
 ],
 "metadata": {
  "kernelspec": {
   "display_name": "Python 3 (ipykernel)",
   "language": "python",
   "name": "python3"
  },
  "language_info": {
   "codemirror_mode": {
    "name": "ipython",
    "version": 3
   },
   "file_extension": ".py",
   "mimetype": "text/x-python",
   "name": "python",
   "nbconvert_exporter": "python",
   "pygments_lexer": "ipython3",
   "version": "3.11.3"
  }
 },
 "nbformat": 4,
 "nbformat_minor": 5
}
